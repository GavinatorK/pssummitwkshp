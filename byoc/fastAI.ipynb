{
 "cells": [
  {
   "cell_type": "code",
   "execution_count": null,
   "metadata": {},
   "outputs": [],
   "source": [
    "!pip install -U sagemaker\n",
    "#restart your kernel"
   ]
  },
  {
   "cell_type": "markdown",
   "metadata": {},
   "source": [
    "### Bring your own Container\n",
    "\n",
    "In this notebook, we will cover how to bring our own container with either a framework or algorithm to train a model on SageMaker. \n",
    "\n",
    "We will use fastai in this case and build our container with custom training code integrated into the container. The other option is to use script mode which is easily done by changing the entrypoint.\n",
    "\n",
    "The outline of this notebook is \n",
    "\n",
    "1. Build docker a image for FastAI and serving and training code (provided).\n",
    "\n",
    "2. Log into ECR, tag and push docker image to ECR \n",
    "\n",
    "3. Use the FastAI container image in SageMaker to train our model \n",
    "\n",
    "4. Deploy model to endpoint using the container image\n",
    "\n",
    "5. Test inference using an image in couple of possible ways "
   ]
  },
  {
   "cell_type": "markdown",
   "metadata": {},
   "source": [
    "#### Container Image\n",
    "Let's start with building a container image locally and then push that to ECR (Elastic Container Registry)"
   ]
  },
  {
   "cell_type": "code",
   "execution_count": 12,
   "metadata": {},
   "outputs": [
    {
     "name": "stdout",
     "output_type": "stream",
     "text": [
      "/home/ec2-user/SageMaker/pssummitwkshp/byoc/docker\n"
     ]
    }
   ],
   "source": [
    "%cd ~/SageMaker/pssummitwkshp/byoc/docker"
   ]
  },
  {
   "cell_type": "code",
   "execution_count": 13,
   "metadata": {},
   "outputs": [
    {
     "name": "stdout",
     "output_type": "stream",
     "text": [
      "Sending build context to Docker daemon  55.81kB\n",
      "Step 1/8 : FROM fastdotai/fastai:latest\n",
      " ---> 539369040b97\n",
      "Step 2/8 : LABEL maintainer=\"Raj Kadiyala\"\n",
      " ---> Using cache\n",
      " ---> e9f28a6f8590\n",
      "Step 3/8 : WORKDIR /\n",
      " ---> Using cache\n",
      " ---> e1d448f4f378\n",
      "Step 4/8 : RUN pip3 install --no-cache --upgrade requests\n",
      " ---> Using cache\n",
      " ---> e87b43ada07e\n",
      "Step 5/8 : ENV PYTHONDONTWRITEBYTECODE=1     PYTHONUNBUFFERED=1     LD_LIBRARY_PATH=\"${LD_LIBRARY_PATH}:/usr/local/lib\"     PYTHONIOENCODING=UTF-8     LANG=C.UTF-8     LC_ALL=C.UTF-8\n",
      " ---> Using cache\n",
      " ---> 80a5af715cad\n",
      "Step 6/8 : RUN pip3 install --no-cache --upgrade     sagemaker-training\n",
      " ---> Using cache\n",
      " ---> 24e09afa91e9\n",
      "Step 7/8 : COPY code/* /opt/ml/code/\n",
      " ---> 43a6eb223e55\n",
      "Step 8/8 : ENV SAGEMAKER_PROGRAM train.py\n",
      " ---> Running in d055b22e40d9\n",
      "Removing intermediate container d055b22e40d9\n",
      " ---> 05529306daa0\n",
      "Successfully built 05529306daa0\n",
      "Successfully tagged fastai:latest\n"
     ]
    }
   ],
   "source": [
    "!docker build -t fastai ."
   ]
  },
  {
   "cell_type": "code",
   "execution_count": 14,
   "metadata": {},
   "outputs": [
    {
     "name": "stdout",
     "output_type": "stream",
     "text": [
      "REPOSITORY                                                                                                TAG                 IMAGE ID            CREATED                  SIZE\n",
      "fastai                                                                                                    latest              05529306daa0        Less than a second ago   9.16GB\n",
      "826659556017.dkr.ecr.us-east-1.amazonaws.com/sagemaker-training-containers/script-mode-container-fastai   latest              1f508fde1f60        2 hours ago              9.16GB\n",
      "826659556017.dkr.ecr.us-east-1.amazonaws.com/sagemaker-training-containers/script-mode-container-fastai   <none>              724a3102419f        3 hours ago              9.16GB\n",
      "826659556017.dkr.ecr.us-east-1.amazonaws.com/sagemaker-training-containers/script-mode-container-fastai   <none>              d325e6fdf792        8 hours ago              9.16GB\n",
      "826659556017.dkr.ecr.us-east-1.amazonaws.com/sagemaker-training-containers/script-mode-container-fastai   <none>              ec5595e55e99        31 hours ago             9.16GB\n",
      "fastdotai/fastai                                                                                          latest              539369040b97        40 hours ago             9.13GB\n"
     ]
    }
   ],
   "source": [
    "!docker images"
   ]
  },
  {
   "cell_type": "markdown",
   "metadata": {},
   "source": [
    "## Set the ecr details and tags \n",
    "Lets set a few params here like ecr name space , tag name etc."
   ]
  },
  {
   "cell_type": "code",
   "execution_count": 15,
   "metadata": {},
   "outputs": [],
   "source": [
    "from sagemaker import get_execution_role\n",
    "import boto3\n",
    "ecr_namespace = \"sagemaker-training-containers/\"\n",
    "prefix = \"script-mode-container-fastai\"\n",
    "\n",
    "ecr_repository_name = ecr_namespace + prefix\n",
    "role = get_execution_role()\n",
    "account_id = role.split(\":\")[4]\n",
    "region = boto3.Session().region_name\n",
    "tag_name=account_id+'.dkr.ecr.'+region+'.amazonaws.com/'+ecr_repository_name+':latest'"
   ]
  },
  {
   "cell_type": "code",
   "execution_count": 16,
   "metadata": {},
   "outputs": [
    {
     "data": {
      "text/plain": [
       "'826659556017.dkr.ecr.us-east-1.amazonaws.com/sagemaker-training-containers/script-mode-container-fastai:latest'"
      ]
     },
     "execution_count": 16,
     "metadata": {},
     "output_type": "execute_result"
    }
   ],
   "source": [
    "tag_name"
   ]
  },
  {
   "cell_type": "markdown",
   "metadata": {},
   "source": [
    "Now we tag our image with the tag name we generated above"
   ]
  },
  {
   "cell_type": "code",
   "execution_count": 17,
   "metadata": {},
   "outputs": [],
   "source": [
    "!docker tag fastai $tag_name"
   ]
  },
  {
   "cell_type": "markdown",
   "metadata": {},
   "source": [
    "### ECR Repository and push steps\n",
    "\n",
    "All of these can be scripted out but they are laid out this way for transparency and step evolution understanding\n",
    "\n",
    "First we get a token credential to ECR. This will allow us to perform ECR operations"
   ]
  },
  {
   "cell_type": "code",
   "execution_count": 18,
   "metadata": {},
   "outputs": [
    {
     "name": "stdout",
     "output_type": "stream",
     "text": [
      "WARNING! Using --password via the CLI is insecure. Use --password-stdin.\n",
      "WARNING! Your password will be stored unencrypted in /home/ec2-user/.docker/config.json.\n",
      "Configure a credential helper to remove this warning. See\n",
      "https://docs.docker.com/engine/reference/commandline/login/#credentials-store\n",
      "\n",
      "Login Succeeded\n"
     ]
    }
   ],
   "source": [
    "!$(aws ecr get-login --no-include-email)"
   ]
  },
  {
   "cell_type": "markdown",
   "metadata": {},
   "source": [
    "Here we create an ECR repository"
   ]
  },
  {
   "cell_type": "code",
   "execution_count": 19,
   "metadata": {},
   "outputs": [
    {
     "name": "stdout",
     "output_type": "stream",
     "text": [
      "\n",
      "An error occurred (RepositoryAlreadyExistsException) when calling the CreateRepository operation: The repository with name 'sagemaker-training-containers/script-mode-container-fastai' already exists in the registry with id '826659556017'\n"
     ]
    }
   ],
   "source": [
    "!aws ecr create-repository --repository-name $ecr_repository_name"
   ]
  },
  {
   "cell_type": "markdown",
   "metadata": {},
   "source": [
    "Now that our ECR respoitory has been created, we can now push our docker image to it with the tag name we assigned to it"
   ]
  },
  {
   "cell_type": "code",
   "execution_count": 20,
   "metadata": {},
   "outputs": [
    {
     "name": "stdout",
     "output_type": "stream",
     "text": [
      "The push refers to repository [826659556017.dkr.ecr.us-east-1.amazonaws.com/sagemaker-training-containers/script-mode-container-fastai]\n",
      "\n",
      "\u001b[1B8c8c93b7: Preparing \n",
      "\u001b[1B249f5376: Preparing \n",
      "\u001b[1B11a5b3f2: Preparing \n",
      "\u001b[1Babbdd18a: Preparing \n",
      "\u001b[1B38cf5f0c: Preparing \n",
      "\u001b[1B41532ca7: Preparing \n",
      "\u001b[1Bf60d0d1d: Preparing \n",
      "\u001b[1B615a1743: Preparing \n",
      "\u001b[1Bbf18a086: Preparing \n",
      "\u001b[1B4401c38d: Preparing \n",
      "\u001b[1B22356a9c: Preparing \n",
      "\u001b[1B04ba5ce7: Preparing \n",
      "\u001b[1B751ec296: Preparing \n",
      "\u001b[1B8e31d021: Preparing \n",
      "\u001b[1B62e73fa9: Preparing \n",
      "\u001b[11B1532ca7: Waiting g \n",
      "\u001b[1Bdc413928: Preparing \n",
      "\u001b[1Bad8f2cae: Preparing \n",
      "\u001b[1B581dbc3c: Preparing \n",
      "\u001b[20Bc8c93b7: Pushed lready exists 1kB7A\u001b[2K\u001b[15A\u001b[2K\u001b[11A\u001b[2K\u001b[7A\u001b[2K\u001b[5A\u001b[2K\u001b[2A\u001b[2K\u001b[20A\u001b[2Klatest: digest: sha256:a4a8e34b3a7b245d6b549b9e2686e9f6ae3f10c5759fcf3ed1554be4786abd9a size: 4711\n"
     ]
    }
   ],
   "source": [
    "!docker push $tag_name"
   ]
  },
  {
   "cell_type": "markdown",
   "metadata": {},
   "source": [
    "This is how we get the URI of our uploaded docker image in ECR"
   ]
  },
  {
   "cell_type": "code",
   "execution_count": 21,
   "metadata": {},
   "outputs": [
    {
     "name": "stdout",
     "output_type": "stream",
     "text": [
      "826659556017.dkr.ecr.us-east-1.amazonaws.com/sagemaker-training-containers/script-mode-container-fastai:latest\n"
     ]
    }
   ],
   "source": [
    "container_image_uri = \"{0}.dkr.ecr.{1}.amazonaws.com/{2}:latest\".format(\n",
    "    account_id, region, ecr_repository_name\n",
    ")\n",
    "print(container_image_uri)"
   ]
  },
  {
   "cell_type": "markdown",
   "metadata": {},
   "source": [
    "#### Call your custom container to train the model\n",
    "\n",
    "In the cell below, replace **\"your-unique-bucket-name\"** with the name of bucket you created in the data-prep notebook"
   ]
  },
  {
   "cell_type": "code",
   "execution_count": null,
   "metadata": {},
   "outputs": [],
   "source": [
    "%%time\n",
    "import sagemaker\n",
    "import json\n",
    "\n",
    "#bucket = \"your-unique-bucket-name\"\n",
    "bucket = \"myagm-dcsum\"\n",
    "\n",
    "# JSON encode hyperparameters\n",
    "def json_encode_hyperparameters(hyperparameters):\n",
    "    return {str(k): json.dumps(v) for (k, v) in hyperparameters.items()}\n",
    "\n",
    "\n",
    "hyperparameters = json_encode_hyperparameters({\"lr\":1e-03})\n",
    "\n",
    "est = sagemaker.estimator.Estimator(\n",
    "    container_image_uri,\n",
    "    role,\n",
    "    instance_count=1,\n",
    "    #train_instance_type=\"local\",  # we use local mode\n",
    "    instance_type='ml.m5.12xlarge',\n",
    "    base_job_name=prefix,\n",
    "    hyperparameters=hyperparameters,\n",
    ")\n",
    "\n",
    "train_config = sagemaker.session.TrainingInput(f's3://{bucket}/train')\n",
    "\n",
    "est.fit({\"train\": train_config})"
   ]
  },
  {
   "cell_type": "code",
   "execution_count": null,
   "metadata": {},
   "outputs": [],
   "source": []
  }
 ],
 "metadata": {
  "kernelspec": {
   "display_name": "conda_python3",
   "language": "python",
   "name": "conda_python3"
  },
  "language_info": {
   "codemirror_mode": {
    "name": "ipython",
    "version": 3
   },
   "file_extension": ".py",
   "mimetype": "text/x-python",
   "name": "python",
   "nbconvert_exporter": "python",
   "pygments_lexer": "ipython3",
   "version": "3.6.13"
  }
 },
 "nbformat": 4,
 "nbformat_minor": 4
}
